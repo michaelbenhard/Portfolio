{
 "cells": [
  {
   "cell_type": "code",
   "execution_count": 5,
   "id": "c60739de-123d-44c5-bcda-d2e51ce87777",
   "metadata": {},
   "outputs": [],
   "source": [
    "from pyspark.sql import SparkSession"
   ]
  },
  {
   "cell_type": "code",
   "execution_count": 6,
   "id": "1928eb35-4ee3-4425-a97c-51347db61376",
   "metadata": {},
   "outputs": [],
   "source": [
    "spark = SparkSession.builder.appName('Practice').getOrCreate()"
   ]
  },
  {
   "cell_type": "code",
   "execution_count": 8,
   "id": "fe161261-1f40-4a80-8b36-6e9eadc7fd13",
   "metadata": {},
   "outputs": [],
   "source": [
    "df_pyspark = spark.read.csv('data.csv', header = True, inferSchema = True)"
   ]
  },
  {
   "cell_type": "code",
   "execution_count": 9,
   "id": "35dd490e-27ba-410a-8db7-8fa07b72fed8",
   "metadata": {},
   "outputs": [
    {
     "name": "stdout",
     "output_type": "stream",
     "text": [
      "root\n",
      " |-- Name: string (nullable = true)\n",
      " |-- Departement: string (nullable = true)\n",
      " |-- Salary: integer (nullable = true)\n",
      "\n"
     ]
    }
   ],
   "source": [
    "df_pyspark.printSchema()"
   ]
  },
  {
   "cell_type": "code",
   "execution_count": 14,
   "id": "94f92165-11a0-43ae-bad8-9f92a518751c",
   "metadata": {},
   "outputs": [
    {
     "name": "stdout",
     "output_type": "stream",
     "text": [
      "+-------+-----------+\n",
      "|   Name|sum(Salary)|\n",
      "+-------+-----------+\n",
      "|  Jones|      20000|\n",
      "|   Jack|      10000|\n",
      "| Jessie|       7000|\n",
      "|Michael|      15000|\n",
      "| Julian|      10000|\n",
      "|  Karen|       9000|\n",
      "+-------+-----------+\n",
      "\n"
     ]
    }
   ],
   "source": [
    "#GroupBy\n",
    "df_pyspark.groupBy('Name').sum().show()"
   ]
  },
  {
   "cell_type": "code",
   "execution_count": 17,
   "id": "35c7ffd8-41c7-440b-ac73-783e8abdcdc6",
   "metadata": {},
   "outputs": [
    {
     "name": "stdout",
     "output_type": "stream",
     "text": [
      "+------------+-----------+\n",
      "| Departement|sum(Salary)|\n",
      "+------------+-----------+\n",
      "|     Nursing|      40000|\n",
      "|Data Science|      20000|\n",
      "|     Biology|      11000|\n",
      "+------------+-----------+\n",
      "\n",
      "+------------+------------------+\n",
      "| Departement|       avg(Salary)|\n",
      "+------------+------------------+\n",
      "|     Nursing|           10000.0|\n",
      "|Data Science|           10000.0|\n",
      "|     Biology|3666.6666666666665|\n",
      "+------------+------------------+\n",
      "\n",
      "+------------+-----+\n",
      "| Departement|count|\n",
      "+------------+-----+\n",
      "|     Nursing|    4|\n",
      "|Data Science|    2|\n",
      "|     Biology|    3|\n",
      "+------------+-----+\n",
      "\n"
     ]
    }
   ],
   "source": [
    "#Groupby Departement whcih gives maximum salary\n",
    "df_pyspark.groupBy('Departement').sum().show()\n",
    "df_pyspark.groupBy('Departement').mean().show()\n",
    "df_pyspark.groupBy('Departement').count().show()"
   ]
  },
  {
   "cell_type": "code",
   "execution_count": 18,
   "id": "52c25935-1b0e-4cbc-9de4-aa19b97110f6",
   "metadata": {},
   "outputs": [
    {
     "name": "stdout",
     "output_type": "stream",
     "text": [
      "+-----------+\n",
      "|sum(Salary)|\n",
      "+-----------+\n",
      "|      71000|\n",
      "+-----------+\n",
      "\n"
     ]
    }
   ],
   "source": [
    "df_pyspark.agg({'Salary':'sum'}).show()"
   ]
  }
 ],
 "metadata": {
  "kernelspec": {
   "display_name": "Python 3 (ipykernel)",
   "language": "python",
   "name": "python3"
  },
  "language_info": {
   "codemirror_mode": {
    "name": "ipython",
    "version": 3
   },
   "file_extension": ".py",
   "mimetype": "text/x-python",
   "name": "python",
   "nbconvert_exporter": "python",
   "pygments_lexer": "ipython3",
   "version": "3.11.4"
  }
 },
 "nbformat": 4,
 "nbformat_minor": 5
}
