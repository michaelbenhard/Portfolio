{
 "cells": [
  {
   "cell_type": "code",
   "execution_count": 1,
   "id": "aaa7092f-ff21-4155-a7f8-1c2c8ca27b53",
   "metadata": {},
   "outputs": [
    {
     "name": "stderr",
     "output_type": "stream",
     "text": [
      "23/07/10 08:27:51 WARN Utils: Your hostname, Benhards-MacBook-Pro.local resolves to a loopback address: 127.0.0.1; using 192.168.1.14 instead (on interface en0)\n",
      "23/07/10 08:27:51 WARN Utils: Set SPARK_LOCAL_IP if you need to bind to another address\n",
      "Setting default log level to \"WARN\".\n",
      "To adjust logging level use sc.setLogLevel(newLevel). For SparkR, use setLogLevel(newLevel).\n",
      "23/07/10 08:27:52 WARN NativeCodeLoader: Unable to load native-hadoop library for your platform... using builtin-java classes where applicable\n",
      "23/07/10 08:27:53 WARN Utils: Service 'SparkUI' could not bind on port 4040. Attempting port 4041.\n",
      "23/07/10 08:27:53 WARN Utils: Service 'SparkUI' could not bind on port 4041. Attempting port 4042.\n",
      "23/07/10 08:27:53 WARN Utils: Service 'SparkUI' could not bind on port 4042. Attempting port 4043.\n"
     ]
    }
   ],
   "source": [
    "from pyspark.sql import SparkSession\n",
    "spark = SparkSession.builder.appName('Practice').getOrCreate()"
   ]
  },
  {
   "cell_type": "code",
   "execution_count": 12,
   "id": "8c8497b7-c042-471d-bc49-436ccbbbec69",
   "metadata": {},
   "outputs": [
    {
     "name": "stdout",
     "output_type": "stream",
     "text": [
      "+-------+---+----------+------+\n",
      "|   Name|Age|Experience|Salary|\n",
      "+-------+---+----------+------+\n",
      "|Michael| 21|        10| 10000|\n",
      "|  Karen| 22|         8|  5000|\n",
      "| Jessie| 20|         4|  4000|\n",
      "|   Jena| 24|         3|  4000|\n",
      "|   Paul| 19|         1|  3000|\n",
      "|  Jones| 30|         2| 20000|\n",
      "+-------+---+----------+------+\n",
      "\n",
      "root\n",
      " |-- Name: string (nullable = true)\n",
      " |-- Age: integer (nullable = true)\n",
      " |-- Experience: integer (nullable = true)\n",
      " |-- Salary: integer (nullable = true)\n",
      "\n"
     ]
    },
    {
     "data": {
      "text/plain": [
       "['Name', 'Age', 'Experience', 'Salary']"
      ]
     },
     "execution_count": 12,
     "metadata": {},
     "output_type": "execute_result"
    }
   ],
   "source": [
    "training = spark.read.csv('data.csv',header = True, inferSchema = True)\n",
    "training.show()\n",
    "training.printSchema()\n",
    "training.columns"
   ]
  },
  {
   "cell_type": "code",
   "execution_count": 13,
   "id": "b742ab02-215b-4ef4-88d5-312005531aee",
   "metadata": {},
   "outputs": [],
   "source": [
    "from pyspark.ml.feature import VectorAssembler\n",
    "featureassembler = VectorAssembler(inputCols=[\"Age\",\"Experience\"],outputCol=\"Independent Feature\")"
   ]
  },
  {
   "cell_type": "code",
   "execution_count": 15,
   "id": "32835a11-52be-4b2e-aa9f-004ee104966e",
   "metadata": {},
   "outputs": [
    {
     "name": "stdout",
     "output_type": "stream",
     "text": [
      "+-------+---+----------+------+-------------------+\n",
      "|   Name|Age|Experience|Salary|Independent Feature|\n",
      "+-------+---+----------+------+-------------------+\n",
      "|Michael| 21|        10| 10000|        [21.0,10.0]|\n",
      "|  Karen| 22|         8|  5000|         [22.0,8.0]|\n",
      "| Jessie| 20|         4|  4000|         [20.0,4.0]|\n",
      "|   Jena| 24|         3|  4000|         [24.0,3.0]|\n",
      "|   Paul| 19|         1|  3000|         [19.0,1.0]|\n",
      "|  Jones| 30|         2| 20000|         [30.0,2.0]|\n",
      "+-------+---+----------+------+-------------------+\n",
      "\n"
     ]
    }
   ],
   "source": [
    "output = featureassembler.transform(training)\n",
    "output.show()"
   ]
  },
  {
   "cell_type": "code",
   "execution_count": 17,
   "id": "05dc54bb-bb6b-4b9c-9f20-6ebf887db0ee",
   "metadata": {},
   "outputs": [
    {
     "name": "stdout",
     "output_type": "stream",
     "text": [
      "+-------------------+------+\n",
      "|Independent Feature|Salary|\n",
      "+-------------------+------+\n",
      "|        [21.0,10.0]| 10000|\n",
      "|         [22.0,8.0]|  5000|\n",
      "|         [20.0,4.0]|  4000|\n",
      "|         [24.0,3.0]|  4000|\n",
      "|         [19.0,1.0]|  3000|\n",
      "|         [30.0,2.0]| 20000|\n",
      "+-------------------+------+\n",
      "\n"
     ]
    }
   ],
   "source": [
    "finalized_data = output.select(\"Independent Feature\", \"Salary\")\n",
    "finalized_data.show()"
   ]
  },
  {
   "cell_type": "code",
   "execution_count": 25,
   "id": "d063cab5-a67f-42fa-9715-a98e8b9cbdaa",
   "metadata": {},
   "outputs": [
    {
     "name": "stderr",
     "output_type": "stream",
     "text": [
      "23/07/10 08:45:49 WARN Instrumentation: [017dc7cc] regParam is zero, which might cause numerical instability and overfitting.\n"
     ]
    }
   ],
   "source": [
    "from pyspark.ml.regression import LinearRegression\n",
    "train_data, test_data = finalized_data.randomSplit([0.75,0.25])\n",
    "regressor = LinearRegression(featuresCol = 'Independent Feature', labelCol = 'Salary')\n",
    "regressor = regressor.fit(train_data)"
   ]
  },
  {
   "cell_type": "code",
   "execution_count": 26,
   "id": "475ae90f-6e54-433b-8620-55fd9df6f3ad",
   "metadata": {},
   "outputs": [
    {
     "data": {
      "text/plain": [
       "DenseVector([-121.9512, 804.878])"
      ]
     },
     "execution_count": 26,
     "metadata": {},
     "output_type": "execute_result"
    }
   ],
   "source": [
    "regressor.coefficients"
   ]
  },
  {
   "cell_type": "code",
   "execution_count": 27,
   "id": "a962b031-60f5-4f2e-b484-a98ba1b99ff2",
   "metadata": {},
   "outputs": [
    {
     "data": {
      "text/plain": [
       "4512.19512195114"
      ]
     },
     "execution_count": 27,
     "metadata": {},
     "output_type": "execute_result"
    }
   ],
   "source": [
    "regressor.intercept"
   ]
  },
  {
   "cell_type": "code",
   "execution_count": 29,
   "id": "53aac32b-4206-4c57-8b34-e14cd09a3ec7",
   "metadata": {},
   "outputs": [
    {
     "name": "stdout",
     "output_type": "stream",
     "text": [
      "+-------------------+------+-----------------+\n",
      "|Independent Feature|Salary|       prediction|\n",
      "+-------------------+------+-----------------+\n",
      "|         [20.0,4.0]|  4000|5292.682926829264|\n",
      "|         [22.0,8.0]|  5000| 8268.29268292683|\n",
      "|         [30.0,2.0]| 20000|2463.414634146377|\n",
      "+-------------------+------+-----------------+\n",
      "\n"
     ]
    }
   ],
   "source": [
    "pred_result = regressor.evaluate(test_data)\n",
    "pred_result.predictions.show()"
   ]
  },
  {
   "cell_type": "code",
   "execution_count": 30,
   "id": "94940511-8967-4d5e-a4ba-c7dfe5e49142",
   "metadata": {},
   "outputs": [
    {
     "data": {
      "text/plain": [
       "(7365.853658536573, 106628197.50148678)"
      ]
     },
     "execution_count": 30,
     "metadata": {},
     "output_type": "execute_result"
    }
   ],
   "source": [
    "pred_result.meanAbsoluteError, pred_result.meanSquaredError"
   ]
  }
 ],
 "metadata": {
  "kernelspec": {
   "display_name": "Python 3 (ipykernel)",
   "language": "python",
   "name": "python3"
  },
  "language_info": {
   "codemirror_mode": {
    "name": "ipython",
    "version": 3
   },
   "file_extension": ".py",
   "mimetype": "text/x-python",
   "name": "python",
   "nbconvert_exporter": "python",
   "pygments_lexer": "ipython3",
   "version": "3.11.4"
  }
 },
 "nbformat": 4,
 "nbformat_minor": 5
}
