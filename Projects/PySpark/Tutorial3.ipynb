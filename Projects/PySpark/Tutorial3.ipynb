{
 "cells": [
  {
   "cell_type": "markdown",
   "id": "a43cef6c-2387-42e2-9248-3c6cfb5fa428",
   "metadata": {},
   "source": [
    "# "
   ]
  },
  {
   "cell_type": "code",
   "execution_count": 3,
   "id": "7b512af7-a1a4-4622-a971-59b6a900bab7",
   "metadata": {},
   "outputs": [],
   "source": [
    "from pyspark.sql import SparkSession"
   ]
  },
  {
   "cell_type": "code",
   "execution_count": 4,
   "id": "ac89bd2d-a725-4648-abb4-c09f814a4769",
   "metadata": {},
   "outputs": [
    {
     "name": "stderr",
     "output_type": "stream",
     "text": [
      "23/07/10 07:02:57 WARN Utils: Your hostname, Benhards-MacBook-Pro.local resolves to a loopback address: 127.0.0.1; using 192.168.1.14 instead (on interface en0)\n",
      "23/07/10 07:02:57 WARN Utils: Set SPARK_LOCAL_IP if you need to bind to another address\n",
      "Setting default log level to \"WARN\".\n",
      "To adjust logging level use sc.setLogLevel(newLevel). For SparkR, use setLogLevel(newLevel).\n",
      "23/07/10 07:02:58 WARN NativeCodeLoader: Unable to load native-hadoop library for your platform... using builtin-java classes where applicable\n",
      "23/07/10 07:02:59 WARN Utils: Service 'SparkUI' could not bind on port 4040. Attempting port 4041.\n",
      "23/07/10 07:02:59 WARN Utils: Service 'SparkUI' could not bind on port 4041. Attempting port 4042.\n"
     ]
    }
   ],
   "source": [
    "spark = SparkSession.builder.appName('Practice').getOrCreate()"
   ]
  },
  {
   "cell_type": "code",
   "execution_count": 30,
   "id": "f65deddb-addf-4384-81dc-bdd0504c81e8",
   "metadata": {},
   "outputs": [
    {
     "name": "stdout",
     "output_type": "stream",
     "text": [
      "+-------+----+----------+------+\n",
      "|   Name| Age|Experience|Salary|\n",
      "+-------+----+----------+------+\n",
      "|Michael|  21|        10| 30000|\n",
      "|  Karen|  22|         8|250000|\n",
      "| Jessie|  20|         4| 20000|\n",
      "|   Jean|  24|         3| 20000|\n",
      "|   Paul|  21|         1|150000|\n",
      "|  Jones|  23|         2|180000|\n",
      "|   null|null|      null| 40000|\n",
      "|   null|  34|        10|380000|\n",
      "|   null|  36|      null|  null|\n",
      "+-------+----+----------+------+\n",
      "\n"
     ]
    }
   ],
   "source": [
    "df_pyspark=spark.read.csv('data.csv', header = True, inferSchema=True)\n",
    "df_pyspark.show()"
   ]
  },
  {
   "cell_type": "code",
   "execution_count": 10,
   "id": "1da2b6ea-ea1d-425e-bf7d-a6f164a9c9ad",
   "metadata": {},
   "outputs": [
    {
     "name": "stdout",
     "output_type": "stream",
     "text": [
      "+----+----------+------+\n",
      "| Age|Experience|Salary|\n",
      "+----+----------+------+\n",
      "|  21|        10| 30000|\n",
      "|  22|         8|250000|\n",
      "|  20|         4| 20000|\n",
      "|  24|         3| 20000|\n",
      "|  21|         1|150000|\n",
      "|  23|         2|180000|\n",
      "|null|      null| 40000|\n",
      "|  34|        10|380000|\n",
      "|  36|      null|  null|\n",
      "+----+----------+------+\n",
      "\n"
     ]
    }
   ],
   "source": [
    "#Dropping columns\n",
    "df_pyspark.drop('Name').show()"
   ]
  },
  {
   "cell_type": "code",
   "execution_count": 14,
   "id": "627e2888-e977-4bf3-8bff-d5b85d58e0e0",
   "metadata": {},
   "outputs": [
    {
     "name": "stdout",
     "output_type": "stream",
     "text": [
      "+-------+---+----------+------+\n",
      "|   Name|Age|Experience|Salary|\n",
      "+-------+---+----------+------+\n",
      "|Michael| 21|        10| 30000|\n",
      "|  Karen| 22|         8|250000|\n",
      "| Jessie| 20|         4| 20000|\n",
      "|   Jean| 24|         3| 20000|\n",
      "|   Paul| 21|         1|150000|\n",
      "|  Jones| 23|         2|180000|\n",
      "+-------+---+----------+------+\n",
      "\n",
      "+-------+----+----------+------+\n",
      "|   Name| Age|Experience|Salary|\n",
      "+-------+----+----------+------+\n",
      "|Michael|  21|        10| 30000|\n",
      "|  Karen|  22|         8|250000|\n",
      "| Jessie|  20|         4| 20000|\n",
      "|   Jean|  24|         3| 20000|\n",
      "|   Paul|  21|         1|150000|\n",
      "|  Jones|  23|         2|180000|\n",
      "|   null|null|      null| 40000|\n",
      "|   null|  34|        10|380000|\n",
      "|   null|  36|      null|  null|\n",
      "+-------+----+----------+------+\n",
      "\n",
      "+-------+---+----------+------+\n",
      "|   Name|Age|Experience|Salary|\n",
      "+-------+---+----------+------+\n",
      "|Michael| 21|        10| 30000|\n",
      "|  Karen| 22|         8|250000|\n",
      "| Jessie| 20|         4| 20000|\n",
      "|   Jean| 24|         3| 20000|\n",
      "|   Paul| 21|         1|150000|\n",
      "|  Jones| 23|         2|180000|\n",
      "+-------+---+----------+------+\n",
      "\n"
     ]
    }
   ],
   "source": [
    "#Drop everything with a null record\n",
    "df_pyspark.na.drop().show()\n",
    "#all argument in how will drop record if all the column of a row is null\n",
    "df_pyspark.na.drop(how ='all').show()\n",
    "#Same as first one\n",
    "df_pyspark.na.drop(how = 'any').show()"
   ]
  },
  {
   "cell_type": "code",
   "execution_count": 17,
   "id": "6e539861-0ab8-4291-853e-552c3564213c",
   "metadata": {},
   "outputs": [
    {
     "name": "stdout",
     "output_type": "stream",
     "text": [
      "+-------+---+----------+------+\n",
      "|   Name|Age|Experience|Salary|\n",
      "+-------+---+----------+------+\n",
      "|Michael| 21|        10| 30000|\n",
      "|  Karen| 22|         8|250000|\n",
      "| Jessie| 20|         4| 20000|\n",
      "|   Jean| 24|         3| 20000|\n",
      "|   Paul| 21|         1|150000|\n",
      "|  Jones| 23|         2|180000|\n",
      "|   null| 34|        10|380000|\n",
      "+-------+---+----------+------+\n",
      "\n",
      "+-------+----+----------+------+\n",
      "|   Name| Age|Experience|Salary|\n",
      "+-------+----+----------+------+\n",
      "|Michael|  21|        10| 30000|\n",
      "|  Karen|  22|         8|250000|\n",
      "| Jessie|  20|         4| 20000|\n",
      "|   Jean|  24|         3| 20000|\n",
      "|   Paul|  21|         1|150000|\n",
      "|  Jones|  23|         2|180000|\n",
      "|   null|null|      null| 40000|\n",
      "|   null|  34|        10|380000|\n",
      "|   null|  36|      null|  null|\n",
      "+-------+----+----------+------+\n",
      "\n"
     ]
    }
   ],
   "source": [
    "#Thresh is to deterimine the minimum amount of non-null value columns of a row before getting deleted\n",
    "df_pyspark.na.drop(how = 'any', thresh =2).show()\n",
    "\n",
    "df_pyspark.na.drop(how = 'any', thresh =1).show()"
   ]
  },
  {
   "cell_type": "code",
   "execution_count": 20,
   "id": "1202f63b-b694-4c0b-8f3e-92548afe1fa6",
   "metadata": {},
   "outputs": [
    {
     "name": "stdout",
     "output_type": "stream",
     "text": [
      "+-------+---+----------+------+\n",
      "|   Name|Age|Experience|Salary|\n",
      "+-------+---+----------+------+\n",
      "|Michael| 21|        10| 30000|\n",
      "|  Karen| 22|         8|250000|\n",
      "| Jessie| 20|         4| 20000|\n",
      "|   Jean| 24|         3| 20000|\n",
      "|   Paul| 21|         1|150000|\n",
      "|  Jones| 23|         2|180000|\n",
      "|   null| 34|        10|380000|\n",
      "|   null| 36|      null|  null|\n",
      "+-------+---+----------+------+\n",
      "\n",
      "+-------+---+----------+------+\n",
      "|   Name|Age|Experience|Salary|\n",
      "+-------+---+----------+------+\n",
      "|Michael| 21|        10| 30000|\n",
      "|  Karen| 22|         8|250000|\n",
      "| Jessie| 20|         4| 20000|\n",
      "|   Jean| 24|         3| 20000|\n",
      "|   Paul| 21|         1|150000|\n",
      "|  Jones| 23|         2|180000|\n",
      "|   null| 34|        10|380000|\n",
      "+-------+---+----------+------+\n",
      "\n"
     ]
    }
   ],
   "source": [
    "#Subset argument will drop the argument's column if there is a null value in a row\n",
    "df_pyspark.na.drop(how = 'any', subset=['Age']).show()\n",
    "df_pyspark.na.drop(how = 'any', subset=['Experience']).show()"
   ]
  },
  {
   "cell_type": "code",
   "execution_count": 55,
   "id": "9ead9efd-165e-499d-8ea5-b68d8d44c752",
   "metadata": {},
   "outputs": [
    {
     "name": "stdout",
     "output_type": "stream",
     "text": [
      "+-------+----+----------+------+\n",
      "|   Name| Age|Experience|Salary|\n",
      "+-------+----+----------+------+\n",
      "|Michael|  21|        10| 30000|\n",
      "|  Karen|  22|         8|250000|\n",
      "| Jessie|  20|         4| 20000|\n",
      "|   Jean|  24|         3| 20000|\n",
      "|   Paul|  21|         1|150000|\n",
      "|  Jones|  23|         2|180000|\n",
      "|   null|null|      null| 40000|\n",
      "|   null|  34|        10|380000|\n",
      "|   null|  36|      null|  null|\n",
      "+-------+----+----------+------+\n",
      "\n"
     ]
    }
   ],
   "source": [
    "#The first argument is the new value to replace null with, the second argument is which column to do the replacement in\n",
    "df_pyspark.na.fill('Missing Values',['Age','Experience']).show()"
   ]
  },
  {
   "cell_type": "code",
   "execution_count": 41,
   "id": "09fa9d54-f9ee-4ad7-b1be-0ea35fb2bd5b",
   "metadata": {},
   "outputs": [],
   "source": [
    "from pyspark.ml.feature import Imputer\n",
    "\n",
    "imputer = Imputer(\n",
    "    inputCols=['Age', 'Experience', 'Salary'],\n",
    "    outputCols=[\"{}_imputed\".format(c) for c in ['age','Experience','Salary']]\n",
    ").setStrategy('mean')"
   ]
  },
  {
   "cell_type": "code",
   "execution_count": 42,
   "id": "64b2ecd2-e5fa-480b-bebc-f5cdccfbafcc",
   "metadata": {},
   "outputs": [
    {
     "name": "stdout",
     "output_type": "stream",
     "text": [
      "+-------+----+----------+------+-----------+------------------+--------------+\n",
      "|   Name| Age|Experience|Salary|age_imputed|Experience_imputed|Salary_imputed|\n",
      "+-------+----+----------+------+-----------+------------------+--------------+\n",
      "|Michael|  21|        10| 30000|         21|                10|         30000|\n",
      "|  Karen|  22|         8|250000|         22|                 8|        250000|\n",
      "| Jessie|  20|         4| 20000|         20|                 4|         20000|\n",
      "|   Jean|  24|         3| 20000|         24|                 3|         20000|\n",
      "|   Paul|  21|         1|150000|         21|                 1|        150000|\n",
      "|  Jones|  23|         2|180000|         23|                 2|        180000|\n",
      "|   null|null|      null| 40000|         25|                 5|         40000|\n",
      "|   null|  34|        10|380000|         34|                10|        380000|\n",
      "|   null|  36|      null|  null|         36|                 5|        133750|\n",
      "+-------+----+----------+------+-----------+------------------+--------------+\n",
      "\n"
     ]
    }
   ],
   "source": [
    "#Add imputation columns to df\n",
    "imputer.fit(df_pyspark).transform(df_pyspark).show()"
   ]
  }
 ],
 "metadata": {
  "kernelspec": {
   "display_name": "Python 3 (ipykernel)",
   "language": "python",
   "name": "python3"
  },
  "language_info": {
   "codemirror_mode": {
    "name": "ipython",
    "version": 3
   },
   "file_extension": ".py",
   "mimetype": "text/x-python",
   "name": "python",
   "nbconvert_exporter": "python",
   "pygments_lexer": "ipython3",
   "version": "3.11.4"
  }
 },
 "nbformat": 4,
 "nbformat_minor": 5
}
